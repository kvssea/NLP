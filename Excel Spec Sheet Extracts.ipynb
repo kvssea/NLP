{
    "cells": [
        {
            "cell_type": "code",
            "execution_count": 2,
            "source": [
                "import re \r\n",
                "import os \r\n",
                "import pandas as pd \r\n",
                "import zipfile\r\n",
                "from re import finditer\r\n",
                "import numpy as np "
            ],
            "outputs": [],
            "metadata": {}
        },
        {
            "cell_type": "code",
            "execution_count": null,
            "metadata": {},
            "outputs": [],
            "source": [
                "os.chdir(\"C://users//f33718//desktop\")\n",
                "sap_code_list = pd.read_csv('SAPcodes.txt', delimiter = '\\t', skiprows = 3, low_memory= False)\n",
                "\n",
                "sap_code_list = sap_code_list['MATNR']\n",
                "sap_code_list = sap_code_list.astype(str)\n",
                "sap_code_list = sap_code_list.str.strip()"
            ]
        },
        {
            "cell_type": "code",
            "execution_count": 49,
            "source": [
                "os.chdir('C://users//f33718//desktop//sub-component specs')"
            ],
            "outputs": [],
            "metadata": {}
        },
        {
            "cell_type": "code",
            "execution_count": 51,
            "source": [
                "def getSafetyClearance(xml):\r\n",
                "\r\n",
                "    c_codes = re.findall('C[0-9]{4}-[0-9]{4}', xml)\r\n",
                "    ipscs_codes = re.findall('IPSCS-[a-zA-Z]+-[0-9]{4}-[0-9]{4}', xml)\r\n",
                "    ehs_codes = re.findall('100000[0-9]{6}', xml)\r\n",
                "\r\n",
                "    c_codes = list(np.unique(c_codes))\r\n",
                "    ipscs_codes = list(np.unique(ipscs_codes))\r\n",
                "    ehs_codes = list(np.unique(ehs_codes))\r\n",
                "\r\n",
                "    safety = c_codes + ipscs_codes + ehs_codes\r\n",
                "    \r\n",
                "    return safety"
            ],
            "outputs": [],
            "metadata": {}
        },
        {
            "cell_type": "code",
            "execution_count": 52,
            "source": [
                "def getSapProductCode(xml):\r\n",
                "    sap_codes = re.findall('[3,4][0-9]{7}', xml)\r\n",
                "    sap_found = [code for code in sap_codes if code in sap_code_list.values]\r\n",
                "    sap_found_unique = list(np.unique(sap_found))\r\n",
                "    return sap_found_unique\r\n"
            ],
            "outputs": [],
            "metadata": {}
        },
        {
            "cell_type": "code",
            "execution_count": 53,
            "source": [
                "def getEmails(xml):\r\n",
                "    emails = list(np.unique(re.findall('[a-zA-Z0-9_.]+@[a-zA-Z0-9_.]+\\.com', xml)))\r\n",
                "    return emails"
            ],
            "outputs": [],
            "metadata": {}
        },
        {
            "cell_type": "code",
            "execution_count": 54,
            "source": [
                "def getAssocSpecNumbers(xml):\r\n",
                "    assoc_specs = re.findall('SPEC.{1,2}[0-9]{5}', xml)\r\n",
                "    assoc_specs_unique = list(np.unique(assoc_specs))\r\n",
                "    return assoc_specs_unique\r\n"
            ],
            "outputs": [],
            "metadata": {}
        },
        {
            "cell_type": "code",
            "execution_count": 55,
            "source": [
                "\n",
                "    }"
            ],
            "outputs": [],
            "metadata": {}
        },
        {
            "cell_type": "code",
            "execution_count": 59,
            "source": [
                "def getData(file):\r\n",
                "    spec_number = re.findall('SPEC[-, /s][0-9]{5}', file) #returns a list\r\n",
                "\r\n",
                "    document = zipfile.ZipFile(file)\r\n",
                "\r\n",
                "    xml_list = [item for item in document.namelist() if item.startswith('xl/worksheets') or item.startswith('xl/sharedStrings')]\r\n",
                "\r\n",
                "    sap_codes = []\r\n",
                "    emails = []\r\n",
                "    safety_codes = []\r\n",
                "    assecs = []ocia\n",
                "    \n",
                "    ted_sp    for item in xml_list:\n",
                "        xml = document.read(item).decode()\n",
                "        sap_codes += getSapProductCode(xml)\n",
                "        emails += getEmails(xml)\n",
                "        safety_codes += getSafetyClearance(xml)\n",
                "        associated_specs += getAssocSpecNu\n",
                "\n",
                "               ## if  (('sharedStrings' in section) | ('/sheet' in section)) & section.endswith('.xml')]\r\n",
                "    #spec_dict.update({'Spec No.':spec_number, 'SAP Codes': getSapProductCode(xml), 'Emails':getEmails(xml), 'Safety Codes':getSafetyClearance(xml), 'Associated Specs':getAssocSpecNumbers(xml)})\r\n",
                "    spec_dict['Spec No.'].append(list(np.unique(spec_number)))\r\n",
                "    spec_dict['Safety Codes'].append(list(np.unique(safety_codes)))\r\n",
                "    spec_dict['Emails'].append(list(np.unique(emails)))\r\n",
                "    spec_dict['SAP Codes'].append(list(np.unique(sap_codes)))\r\n",
                "    spec_dict['Associated Specs'].append(list(np.uniqted_specs)))\r\n",
                "\r\n",
                "        \r\n",
                "    "
            ],
            "outputs": [],
            "metadata": {}
        },
        {
            "cell_type": "code",
            "execution_count": 60,
            "source": [
                "spec_dict = {\n",
                "    'Spec No.':[],\n",
                "    'Safety Codes':[],\n",
                "    'Emails':[],\n",
                "    'SAP Codes':[],\n",
                "    'Associated Specs':[],\n",
                "    }\n",
                "\n",
                "for file in os.listdir():\r\n",
                "    getData(fil)se)"
            ],
            "outputs": [],
            "metadata": {}
        },
        {
            "cell_type": "code",
            "execution_count": null,
            "metadata": {},
            "outputs": [],
            "source": [
                "pd.DataFrame.from_dict(spec_dict).to_excel('SPEC Sheet Data (Sub-Components).xlsx', index=False)"
            ]
        }
    ],
    "metadata": {
        "orig_nbformat": 4,
        "language_info": {
            "name": "python",
            "version": "3.8.8",
            "mimetype": "text/x-python",
            "codemirror_mode": {
                "name": "ipython",
                "version": 3
            },
            "pygments_lexer": "ipython3",
            "nbconvert_exporter": "python",
            "file_extension": ".py"
        },
        "kernelspec": {
            "name": "python3",
            "display_name": "Python 3.8.8 64-bit"
        },
        "interpreter": {
            "hash": "b1fedf9e0d71caa871a230c3127640dfd3ada0248a155a81c362252a653a2912"
        }
    },
    "nbformat": 4,
    "nbformat_minor": 2
}