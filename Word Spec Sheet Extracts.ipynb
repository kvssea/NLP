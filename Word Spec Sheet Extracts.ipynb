{
 "metadata": {
  "language_info": {
   "codemirror_mode": {
    "name": "ipython",
    "version": 3
   },
   "file_extension": ".py",
   "mimetype": "text/x-python",
   "name": "python",
   "nbconvert_exporter": "python",
   "pygments_lexer": "ipython3",
   "version": "3.8.8"
  },
  "orig_nbformat": 4,
  "kernelspec": {
   "name": "python3",
   "display_name": "Python 3.8.8 64-bit ('base': conda)"
  },
  "interpreter": {
   "hash": "b1fedf9e0d71caa871a230c3127640dfd3ada0248a155a81c362252a653a2912"
  }
 },
 "nbformat": 4,
 "nbformat_minor": 2,
 "cells": [
  {
   "cell_type": "code",
   "execution_count": 1,
   "source": [
    "import zipfile\r\n",
    "import os\r\n",
    "import re\r\n",
    "from re import finditer\r\n",
    "import os\r\n",
    "import pandas as pd"
   ],
   "outputs": [],
   "metadata": {}
  },
  {
   "cell_type": "code",
   "execution_count": 28,
   "source": [
    "os.chdir('c://users//f33718//desktop//docx specs')"
   ],
   "outputs": [],
   "metadata": {}
  },
  {
   "cell_type": "code",
   "execution_count": 29,
   "source": [
    "# GET SAFETY CLEARANCE CODE:\r\n",
    "def getSafetyClearance(xml):\r\n",
    "    safety = []\r\n",
    "    for match in finditer('C[0-9]{4}-[0-9]{4}', xml):\r\n",
    "        safety.append(match.group())\r\n",
    "    for match in finditer('IPSCS-RM-[0-9]{4}-[0-9]{4}', xml):\r\n",
    "        safety.append(match.group())\r\n",
    "    for match in finditer('1[0-9]{11}', xml):\r\n",
    "        safety.append(match.group())\r\n",
    "    new_spec['safety'].append(safety)"
   ],
   "outputs": [],
   "metadata": {
    "tags": []
   }
  },
  {
   "cell_type": "code",
   "execution_count": 30,
   "source": [
    "# GET SAP PRODUCT CODE(S):\r\n",
    "def getSapProductCode(xml):\r\n",
    "    sap_codes = []\r\n",
    "    for match in finditer('>4[0-9]{7}<', xml):\r\n",
    "        sap_codes.append(match.group())\r\n",
    "    for i in range(len(sap_codes)):\r\n",
    "        sap_codes[i] = sap_codes[i].replace('>','')\r\n",
    "        sap_codes[i] = sap_codes[i].replace('<','')\r\n",
    "    new_spec['sap_codes'].append(sap_codes)"
   ],
   "outputs": [],
   "metadata": {}
  },
  {
   "cell_type": "code",
   "execution_count": 31,
   "source": [
    "# GET VENDOR / KCC EMAIL(S):\r\n",
    "def getEmails(xml):\r\n",
    "    emails = []\r\n",
    "    for match in finditer('[a-zA-Z0-9_.]+@[a-zA-Z0-9_.]+\\.com', xml):\r\n",
    "        emails.append(match.group())\r\n",
    "    new_spec['emails'].append(emails)"
   ],
   "outputs": [],
   "metadata": {}
  },
  {
   "cell_type": "code",
   "execution_count": 32,
   "source": [
    "# GET SPEC NUMBER\r\n",
    "def getSpecNumber(header):\r\n",
    "    spec_num = []\r\n",
    "    for match in finditer('SPEC-[0-9]{5}', header):\r\n",
    "        spec_num.append(match.group())\r\n",
    "    new_spec['spec_number'].append(spec_num)"
   ],
   "outputs": [],
   "metadata": {}
  },
  {
   "cell_type": "code",
   "execution_count": 33,
   "source": [
    "# GET REVISION NUMBER\r\n",
    "def getRevision(header):\r\n",
    "    number = []\r\n",
    "    for match in finditer('>[0-9]<', header):\r\n",
    "        number = match.group()\r\n",
    "        number = number.replace('>', '')\r\n",
    "        number = number.replace('<', '')\r\n",
    "    new_spec['revision'].append(number)"
   ],
   "outputs": [],
   "metadata": {}
  },
  {
   "cell_type": "code",
   "execution_count": 34,
   "source": [
    "def grabData(xml,header):\r\n",
    "    getSafetyClearance(xml)\r\n",
    "    getSapProductCode(xml)\r\n",
    "    getEmails(xml)\r\n",
    "    getRevision(header)\r\n",
    "    getSpecNumber(header)"
   ],
   "outputs": [],
   "metadata": {}
  },
  {
   "cell_type": "code",
   "execution_count": null,
   "source": [],
   "outputs": [],
   "metadata": {}
  },
  {
   "cell_type": "code",
   "execution_count": 35,
   "source": [
    "new_spec = {\r\n",
    "    'spec_number':[],\r\n",
    "    'safety':[],\r\n",
    "    'emails':[],\r\n",
    "    'sap_codes':[],\r\n",
    "    'revision':[]\r\n",
    "}"
   ],
   "outputs": [],
   "metadata": {}
  },
  {
   "cell_type": "code",
   "execution_count": 36,
   "source": [
    "\r\n",
    "\r\n",
    "for file in os.listdir():\r\n",
    "    document = zipfile.ZipFile(file)\r\n",
    "    spec = document.read('word/document.xml').decode()\r\n",
    "\r\n",
    "    if 'word/header1.xml' in document.namelist():\r\n",
    "        header = document.read('word/header1.xml').decode()\r\n",
    "        grabData(spec, header)\r\n",
    "    else:\r\n",
    "        header = ' - '\r\n",
    "        grabData(spec, header)\r\n"
   ],
   "outputs": [],
   "metadata": {}
  },
  {
   "cell_type": "code",
   "execution_count": 37,
   "source": [
    "os.chdir('c://users//f33718//desktop')\r\n",
    "word_specs = pd.DataFrame.from_dict(new_spec)\r\n",
    "word_specs.to_excel('SPEC Sheet Data (Word).xlsx')"
   ],
   "outputs": [],
   "metadata": {}
  }
 ]
}